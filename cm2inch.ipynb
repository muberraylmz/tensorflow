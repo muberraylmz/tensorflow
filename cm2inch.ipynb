{
  "nbformat": 4,
  "nbformat_minor": 0,
  "metadata": {
    "colab": {
      "name": "cm2inch",
      "provenance": [],
      "collapsed_sections": []
    },
    "kernelspec": {
      "name": "python3",
      "display_name": "Python 3"
    }
  },
  "cells": [
    {
      "cell_type": "code",
      "metadata": {
        "id": "BAxuOzoDPUwB",
        "colab_type": "code",
        "outputId": "d79918cb-a297-4f07-9d65-f3cb70917b40",
        "colab": {
          "base_uri": "https://localhost:8080/",
          "height": 398
        }
      },
      "source": [
        "from __future__ import absolute_import, division, print_function, unicode_literals\n",
        "try:\n",
        "  # Use the %tensorflow_version magic if in colab.\n",
        "  %tensorflow_version 2.x\n",
        "except Exception:\n",
        "  pass\n",
        "\n",
        "import tensorflow as tf\n",
        "import numpy as np\n",
        "import logging\n",
        "logger = tf.get_logger()\n",
        "logger.setLevel(logging.ERROR)\n",
        "\n",
        "cm_q  = np.array([20,   30,    40,    45,    50,    60,     70,    80,    90,    100],  dtype=float)\n",
        "ınc_a = np.array([7.87, 11.81, 15.74, 17.71, 19.68, 23.62,  27.55, 31.49, 35.43, 39.37],  dtype=float)\n",
        "\n",
        "#for i,c in enumerate(cm_q):\n",
        "# print(\"{} Cm = {} Inç\".format(c, ınc_a[i]))\n",
        "\n",
        "l0 = tf.keras.layers.Dense(units=1, input_shape=[1])\n",
        "\n",
        "model = tf.keras.Sequential([l0])\n",
        "\n",
        "model = tf.keras.Sequential([\n",
        "  tf.keras.layers.Dense(units=1, input_shape=[1])\n",
        "])\n",
        "\n",
        "model.compile(loss='mean_squared_error',\n",
        "              optimizer=tf.keras.optimizers.Adam(0.1))\n",
        "\n",
        "history = model.fit(cm_q, ınc_a, epochs=500, verbose=False)\n",
        "print(\"Finished training the model\")\n",
        "\n",
        "import matplotlib.pyplot as plt\n",
        "plt.xlabel('Epoch Number')\n",
        "plt.ylabel(\"Loss Magnitude\")\n",
        "plt.plot(history.history['loss'])\n",
        "\n",
        "hesapla = int(input(\"CM giriniz: \")) \n",
        "print(model.predict([hesapla]))\n",
        "\n",
        "print(\"Gerçek Sonuç İse: \")\n",
        "ıslem = hesapla/2.54\n",
        "print(ıslem)\n",
        "\n",
        "\n",
        "print(\"These are the layer variables: {}\".format(l0.get_weights()))\n",
        "\n"
      ],
      "execution_count": 1,
      "outputs": [
        {
          "output_type": "stream",
          "text": [
            "TensorFlow 2.x selected.\n",
            "Finished training the model\n",
            "CM giriniz: 55\n",
            "[[21.648975]]\n",
            "Gerçek Sonuç İse: \n",
            "21.653543307086615\n",
            "These are the layer variables: [array([[0.86150944]], dtype=float32), array([0.], dtype=float32)]\n"
          ],
          "name": "stdout"
        },
        {
          "output_type": "display_data",
          "data": {
            "image/png": "[encoded data removed]",
            "text/plain": [
              "<Figure size 432x288 with 1 Axes>"
            ]
          },
          "metadata": {
            "tags": []
          }
        }
      ]
    }
  ]
}